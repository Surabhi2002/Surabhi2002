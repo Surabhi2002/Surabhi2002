{
 "cells": [
  {
   "cell_type": "markdown",
   "id": "a17a6ce6-db0b-44b4-b6d0-fb82e2de087e",
   "metadata": {},
   "source": [
    "# H1: Data Science Tools and Ecosystem"
   ]
  },
  {
   "cell_type": "markdown",
   "id": "2f555079-eb44-484b-90a5-8729cbc7adc7",
   "metadata": {},
   "source": [
    "In this notebook, Data Science Tools and Ecosystem are summarized."
   ]
  },
  {
   "cell_type": "markdown",
   "id": "7671dfd6-b9f5-433e-9d82-fdf2fd698c75",
   "metadata": {},
   "source": [
    "**Objectives:**\n",
    "* List popular languages for Data Science\n",
    "* Some of the commonly used libraries used by Data Scientists \n",
    "* few examples of evaluating arithmetic expressions in Python\n",
    "* Create a table of Data Science Tools"
   ]
  },
  {
   "cell_type": "markdown",
   "id": "014ab827-e686-48a4-9ee4-148914fcfb0b",
   "metadata": {},
   "source": [
    "Some of the popular languages that Data Scientists use are:\n",
    "1. Python\n",
    "2. R\n",
    "3. SQL"
   ]
  },
  {
   "cell_type": "markdown",
   "id": "853d59b4-0d44-4e04-9906-2c2edb4c7b4b",
   "metadata": {},
   "source": [
    "Some of the commonly used libraries used by Data Scientists include:\n",
    "1. Pandas\n",
    "2. TensorFlow\n",
    "3. NumPy"
   ]
  },
  {
   "cell_type": "markdown",
   "id": "78e99f7d-d441-48f6-81eb-0ddc408f43dd",
   "metadata": {},
   "source": [
    "|  Data Science Tools  |\n",
    "|----------------------|\n",
    "| RStudio |\n",
    "| Apache Spark |\n",
    "| Hadoop |"
   ]
  },
  {
   "cell_type": "markdown",
   "id": "d862f2de-4aa9-4663-a2a3-d5646f91cc45",
   "metadata": {},
   "source": [
    "### H3 : Below are a few examples of evaluating arithmetic expressions in Python \n",
    "1. Add\n",
    "2. Subtract\n",
    "3. Multiply\n"
   ]
  },
  {
   "cell_type": "code",
   "execution_count": 1,
   "id": "b3505c17-36ae-4d0c-935c-7c51b78ed216",
   "metadata": {
    "tags": []
   },
   "outputs": [
    {
     "data": {
      "text/html": [
       "17"
      ],
      "text/latex": [
       "17"
      ],
      "text/markdown": [
       "17"
      ],
      "text/plain": [
       "[1] 17"
      ]
     },
     "metadata": {},
     "output_type": "display_data"
    }
   ],
   "source": [
    "#This a simple arithmetic expression to mutiply then add integers\n",
    "(3*4)+5"
   ]
  },
  {
   "cell_type": "code",
   "execution_count": 4,
   "id": "f0e20145-4a8c-4f61-9027-d236e12eef02",
   "metadata": {
    "tags": []
   },
   "outputs": [
    {
     "name": "stdout",
     "output_type": "stream",
     "text": [
      "[1] 3.333333\n"
     ]
    }
   ],
   "source": [
    "# This will convert 200 minutes to hours by diving by 60\n",
    "a=200\n",
    "b=a/60\n",
    "print(b)"
   ]
  },
  {
   "cell_type": "markdown",
   "id": "b748244b-dd77-4568-9074-75047d89820d",
   "metadata": {},
   "source": [
    "##H2 : Author \\n\n",
    "Surabhi.N"
   ]
  },
  {
   "cell_type": "code",
   "execution_count": null,
   "id": "9596b142-ceca-4c8f-8392-1f0a26761d96",
   "metadata": {},
   "outputs": [],
   "source": []
  }
 ],
 "metadata": {
  "kernelspec": {
   "display_name": "R",
   "language": "R",
   "name": "conda-env-r-r"
  },
  "language_info": {
   "codemirror_mode": "r",
   "file_extension": ".r",
   "mimetype": "text/x-r-source",
   "name": "R",
   "pygments_lexer": "r",
   "version": "3.5.1"
  }
 },
 "nbformat": 4,
 "nbformat_minor": 5
}
